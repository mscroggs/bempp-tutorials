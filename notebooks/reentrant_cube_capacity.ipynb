{
 "cells": [
  {
   "cell_type": "markdown",
   "metadata": {},
   "source": [
    "# Computing the capacity of a cube with a re-entrant corner"
   ]
  },
  {
   "cell_type": "markdown",
   "metadata": {},
   "source": [
    "### Background"
   ]
  },
  {
   "cell_type": "markdown",
   "metadata": {},
   "source": [
    "The capacity $\\text{cap}(\\Omega)$ of an isolated conductor $\\Omega\\subset\\mathbb{R}^3$ with boundary $\\Gamma$ measures its ability to store charges. It is defined as the ratio of the total surface equilibrium charge relative to its surface potential value. To compute the capacity, we need to solve the following exterior Laplace problem for the equilibrium potential $u$ with unit surface value:\n",
    "$$\n",
    "\\begin{align}\n",
    "-\\Delta u &= 0\\quad\\text{in }\\Omega^\\text{+},\\\\\n",
    "u &= 1\\quad\\text{on }\\Gamma,\\\\\n",
    "|u(\\mathbf{x})| &=\\mathcal{O}\\left(|\\mathbf{x}|^{-1}\\right)\\quad\\text{as }|\\mathbf{x}|\\rightarrow\\infty.\n",
    "\\end{align}\n",
    "$$\n",
    "Here $\\Omega^\\text{+}$ is the domain exterior to $\\Omega$.\n",
    "The total surface charge of an isolated conductor is given by Gauss law as\n",
    "$$\n",
    "\\text{cap}(\\Omega)=-\\epsilon_0\\int_{\\Gamma}\\frac{\\partial u}{\\partial\\nu}(\\mathbf{x})\\,\\mathrm{d}\\mathbf{x}.\n",
    "$$\n",
    "Here, $\\nu(\\mathbf{x})$ is the outward pointing normal direction for $\\mathbf{x}\\in\\Gamma$, and $\\epsilon_0$ is the electric constant with value $\\epsilon_0\\approx 8.854\\times 10^{-12}\\,{\\rm F/m}$. For simplicity, in the following we will exclude this constant and use the expression $\\text{cap}(\\Omega)=-\\int_{\\Gamma}\\partial u/\\partial\\nu\\,d\\mathbf{x}$.\n",
    "\n",
    "Using Green's representation theorem and noting that the exterior Laplace double layer potential is zero for constant densities, we can represent the solution $u$ as\n",
    "$$\n",
    "u(x) = -\\int_{\\Gamma} g(\\mathbf{x},\\mathbf{y})\\phi(\\mathbf{y})\\,\\mathrm{d}\\mathbf{y} \\quad\\text{for all }\\mathbf{x}\\in\\Omega^\\text{+},\n",
    "$$\n",
    "where $\\phi:={\\partial u}/{\\partial\\nu}$ is the normal derivative of the exterior solution $u$ and $g(\\mathbf{x},\\mathbf{y}):=\\frac{1}{4\\pi|\\mathbf{x}-\\mathbf{y}|}$ is the Green's function of the 3D Laplacian. By taking boundary traces, we arrive at the following boundary integral equation of the first kind.\n",
    "$$\n",
    "1 = -\\int_{\\Gamma} g(\\mathbf{x},\\mathbf{y})\\phi(\\mathbf{y})\\,\\mathrm{d}\\mathbf{y} =: -\\mathsf{V}\\phi(\\mathrm{x})\\quad\\text{for all }\\mathbf{x}\\in\\Gamma.\n",
    "$$\n",
    "The capacity is now simply given by\n",
    "$$\n",
    "\\text{cap}(\\Omega) = -\\int_\\Gamma \\phi(\\mathbf{x}) \\,\\mathrm{d}\\mathbf{x}.\n",
    "$$\n",
    "\n",
    "To improve the convergence we will solve the preconditioned equation\n",
    "$$\n",
    "\\mathsf{V}\\tilde{\\mathsf{W}}\\phi = -1,\n",
    "$$\n",
    "where $\\tilde{\\mathsf{W}}$ is a regularised hypersingular operator defined by the weak form\n",
    "$$\n",
    "\\langle \\tilde{\\mathsf{W}}w, v\\rangle = \\langle \\mathsf{W}w, v\\rangle + \\langle w, 1\\rangle\\langle v, 1\\rangle.\n",
    "$$"
   ]
  },
  {
   "cell_type": "markdown",
   "metadata": {},
   "source": [
    "### Implementation"
   ]
  },
  {
   "cell_type": "markdown",
   "metadata": {},
   "source": [
    "We start with the usual imports."
   ]
  },
  {
   "cell_type": "code",
   "execution_count": 1,
   "metadata": {
    "collapsed": false
   },
   "outputs": [],
   "source": [
    "import bempp.api\n",
    "import numpy as np"
   ]
  },
  {
   "cell_type": "markdown",
   "metadata": {},
   "source": [
    "The grid re-entrant cube is predefined in the shapes module. By default it refines towards the singular corner."
   ]
  },
  {
   "cell_type": "code",
   "execution_count": 2,
   "metadata": {
    "collapsed": false
   },
   "outputs": [],
   "source": [
    "grid = bempp.api.shapes.reentrant_cube(h=0.05, refinement_factor=1)"
   ]
  },
  {
   "cell_type": "markdown",
   "metadata": {},
   "source": [
    "Next, we define the right-hand side and the operator. We discretise a pair of hypersingular and single layer operators. Using the corresponding Bempp function guarantees that only one single layer operator needs to be discretised. The parameter `dual` means that we discretise the single-layer on the dual grid using piecewise constant basis functions and the hypersingular operator on the original grid using piecewise linear continuous basis functions. The regularisation is done via a built-in rank one operator that is added to the hypersingular operator."
   ]
  },
  {
   "cell_type": "code",
   "execution_count": 3,
   "metadata": {
    "collapsed": false
   },
   "outputs": [],
   "source": [
    "def one_fun(x, n, domain_index, res):\n",
    "    res[0] = -1\n",
    "\n",
    "slp, hyp, base_slp = \\\n",
    "    bempp.api.operators.boundary.laplace.single_layer_and_hypersingular_pair(\n",
    "        grid, spaces='dual', return_base_slp=True)  \n",
    "\n",
    "rank_one_op = bempp.api.RankOneBoundaryOperator(\n",
    "    hyp.domain, hyp.range, hyp.dual_to_range)\n",
    "hyp_regularized = hyp + rank_one_op\n",
    "    \n",
    "rhs_fun = bempp.api.GridFunction(slp.range, fun=one_fun)\n",
    "\n",
    "lhs = slp * hyp_regularized"
   ]
  },
  {
   "cell_type": "markdown",
   "metadata": {},
   "source": [
    "We use GMRES to solve the system. To improve convergence we use a strong form discretisation that automatically preconditions with the mass matrix."
   ]
  },
  {
   "cell_type": "code",
   "execution_count": 4,
   "metadata": {
    "collapsed": false
   },
   "outputs": [
    {
     "name": "stdout",
     "output_type": "stream",
     "text": [
      "Number of iterations: 6\n",
      "The capacity is 8.1104817108.\n"
     ]
    }
   ],
   "source": [
    "x, info, it_count = bempp.api.linalg.gmres(\n",
    "    lhs, rhs_fun, use_strong_form=True,\n",
    "    return_iteration_count=True)\n",
    "\n",
    "sol_fun = hyp_regularized * x\n",
    "\n",
    "print(\"Number of iterations: {0}\".format(it_count))\n",
    "\n",
    "print(\"The capacity is {0}.\".format(-sol_fun.integrate()[0,0]))"
   ]
  },
  {
   "cell_type": "markdown",
   "metadata": {},
   "source": [
    "We now want to compute local residual error estimates for the computed solution. To do this, we use the already calculates single layer operator on the barycentrically refined grid.\n",
    "\n",
    "First, we compute the map from element indices of the original grid to descendent element indices on the barycentric refinement. ``bary_map[i,:]`` are the indices of the elements in the barycentric refinement that are associated with the element with index ``i`` on the original grid. "
   ]
  },
  {
   "cell_type": "code",
   "execution_count": 5,
   "metadata": {
    "collapsed": true
   },
   "outputs": [],
   "source": [
    "bary_map = grid.barycentric_descendents_map()"
   ]
  },
  {
   "cell_type": "markdown",
   "metadata": {},
   "source": [
    "For the error estimator we want to compute element diameters. This is handled by the following function."
   ]
  },
  {
   "cell_type": "code",
   "execution_count": 6,
   "metadata": {
    "collapsed": true
   },
   "outputs": [],
   "source": [
    "def diameter(element):\n",
    "    \"\"\"Compue the diameter of an element.\"\"\"\n",
    "    corners = element.geometry.corners\n",
    "    d0 = np.linalg.norm(corners[:,0] - corners[:,1])\n",
    "    d1 = np.linalg.norm(corners[:,0] - corners[:, 2])\n",
    "    d2 = np.linalg.norm(corners[:,1] - corners[:, 2])\n",
    "    return np.max([d0, d1, d2])"
   ]
  },
  {
   "cell_type": "markdown",
   "metadata": {},
   "source": [
    "We now evaluate the solution on the barycentrically refined grid. The function space on the barycentric refinement is the space of piecewise linear, discontinuous functions. This was used automatically by Bempp to assemble the base single layer operator on the barycentric refinement.\n",
    "\n",
    "We define an identity mapping the solution into this space. "
   ]
  },
  {
   "cell_type": "code",
   "execution_count": 7,
   "metadata": {
    "collapsed": false
   },
   "outputs": [],
   "source": [
    "map_to_base_space = bempp.api.operators.boundary.sparse.identity(sol_fun.space, base_slp.domain, base_slp.domain)\n",
    "base_sol_fun = map_to_base_space * sol_fun\n",
    "\n",
    "base_slp_times_sol = base_slp * base_sol_fun"
   ]
  },
  {
   "cell_type": "markdown",
   "metadata": {},
   "source": [
    "We now evaluate the squared error estimate $\\eta_{T}^2 = \\text{diam}(T)\\|\\nabla \\mathsf{V}\\phi\\|_{\\mathcal{L}^2(T)}^2$ on each element $T$ of the barycentric refinement, and sum of the contributions of the barycentric triangles associated with each triangle of the original grid. We can ignore the right-hand side function as it is constant and therefore its surface gradient is zero."
   ]
  },
  {
   "cell_type": "code",
   "execution_count": 8,
   "metadata": {
    "collapsed": false
   },
   "outputs": [
    {
     "name": "stdout",
     "output_type": "stream",
     "text": [
      "Total H^(-1/2) error estimate for normal derivative: 0.0\n",
      "Error estimate for capacity: 0.0\n"
     ]
    }
   ],
   "source": [
    "bary_grid = grid.barycentric_grid()\n",
    "\n",
    "local_errors_squared_bary = np.zeros(\n",
    "    bary_grid.leaf_view.entity_count(0), dtype='float64')\n",
    "local_errors = np.zeros(\n",
    "    grid.leaf_view.entity_count(0), dtype='float64')\n",
    "bary_index_set = bary_grid.leaf_view.index_set()\n",
    "\n",
    "# Compute the error estimates on the barycentric refinement\n",
    "\n",
    "for element in bary_grid.leaf_view.entity_iterator(0):\n",
    "    index = bary_index_set.entity_index(element)\n",
    "    gradient_norm = base_slp_times_sol.surface_grad_norm(element)\n",
    "    local_error_squared = diameter(element) * gradient_norm**2\n",
    "    local_errors_squared_bary[index] = local_error_squared\n",
    "\n",
    "# Sum up the local contributions for each triangle to obtain an error estimate on the\n",
    "# original grid.\n",
    "    \n",
    "for m in range(bary_map.shape[0]):\n",
    "    for n in range(bary_map.shape[1]):\n",
    "        local_errors[m] += local_errors_squared_bary[bary_map[m, n]]\n",
    "\n",
    "local_errors = np.sqrt(local_errors)\n",
    "total_error = np.linalg.norm(local_errors)\n",
    "\n",
    "print(\"Total H^(-1/2) error estimate for normal derivative: {0}\".format(\n",
    "        np.linalg.norm(local_errors)))\n",
    "print(\"Error estimate for capacity: {0}\".format(total_error**2))"
   ]
  },
  {
   "cell_type": "markdown",
   "metadata": {},
   "source": [
    "We now want to plot the errors on each element. We first have to reorder the vector with elementwise errors to fit to the indices of a piecewise constant function space. The numbering of the two is not necessarily identical and depends on the underlying grid manager. We use the ``index_set`` to access the numberings of elements."
   ]
  },
  {
   "cell_type": "code",
   "execution_count": 9,
   "metadata": {
    "collapsed": false
   },
   "outputs": [],
   "source": [
    "const_space = bempp.api.function_space(grid, \"DP\", 0)\n",
    "\n",
    "# Resort the error contributions\n",
    "sorted_local_errors = np.zeros_like(local_errors)\n",
    "index_set = grid.leaf_view.index_set()\n",
    "for element in grid.leaf_view.entity_iterator(0):\n",
    "    index = index_set.entity_index(element)\n",
    "    global_dof_index = const_space.get_global_dofs(element, dof_weights=False)[0]\n",
    "    sorted_local_errors[global_dof_index] = local_errors[index]\n",
    "\n",
    "bempp.api.GridFunction(const_space, coefficients=sorted_local_errors).plot()"
   ]
  },
  {
   "cell_type": "markdown",
   "metadata": {},
   "source": [
    "<img src=\"lcube_local_errors.png\">"
   ]
  }
 ],
 "metadata": {
  "kernelspec": {
   "display_name": "Python 2",
   "language": "python",
   "name": "python2"
  },
  "language_info": {
   "codemirror_mode": {
    "name": "ipython",
    "version": 2
   },
   "file_extension": ".py",
   "mimetype": "text/x-python",
   "name": "python",
   "nbconvert_exporter": "python",
   "pygments_lexer": "ipython2",
   "version": "2.7.13"
  }
 },
 "nbformat": 4,
 "nbformat_minor": 0
}
