{
 "cells": [
  {
   "cell_type": "markdown",
   "metadata": {},
   "source": [
    "# Solving a mixed Neumann-Dirichlet Problem"
   ]
  },
  {
   "cell_type": "markdown",
   "metadata": {},
   "source": [
    "### Background"
   ]
  },
  {
   "cell_type": "markdown",
   "metadata": {},
   "source": [
    "With Bempp, it is possible to define operators only on segments of a given domain. This makes it possible to solve mixed Neumann-Dirichlet problems. In this tutorial, we solve the Laplace equation inside the unit cube with unit Dirichlet boundary conditions on two sides and unit Neumann boundary conditions on the other four sides.\n",
    "\n",
    "Denote by $\\Gamma_D$ the part of the boundary that holds the Dirichlet boundary conditions and by $\\Gamma_N$ the boundary part that holds the Neumann boundary conditions. We denote by $t\\in\\Gamma_D$ the unknown Neumann data and by $u\\in\\Gamma_N$ the unknown Dirichlet data. The given Dirichlet data on $\\Gamma_D$ is denoted by $g_D$ and the given Neumann data on $\\Gamma_N$ is denoted by $g_N$.\n",
    "\n",
    "From Green's representation theorem it follows that\n",
    "$$\n",
    "\\begin{align}\n",
    "\\left[\\mathsf{V}t\\right] (\\mathbf{x}) - \\left[\\mathsf{K}u\\right] (\\mathbf{x}) &= \\left[\\tfrac{1}{2}\\mathsf{Id} + \\mathsf{K}\\right]g_D(\\mathbf{x}) - \\mathsf{V}g_N(\\mathbf{x}),\\quad \\mathbf{x}\\in\\Gamma_D\\\\\n",
    "\\left[\\mathsf{W}u\\right] (\\mathbf{x}) + \\left[\\mathsf{K}'t\\right] (\\mathbf{x}) &=\\left[\\tfrac{1}{2}\\mathsf{Id} - \\mathsf{K}'\\right]g_N(\\mathbf{x}) - \\mathsf{W}g_D(\\mathbf{x}),\\quad \\mathbf{x}\\in\\Gamma_N\n",
    "\\end{align}\n",
    "$$\n",
    "Here (as usual) $\\mathsf{V}$, $\\mathsf{K}$, $\\mathsf{K}'$, $\\mathsf{W}$ are the single layer, double layer, adjoint double layer and hypersingular <a href='https://bempp.com/2017/07/11/available_operators/'>boundary operators</a>.\n",
    "\n",
    "The difficulty in the implementation is the definition of the discrete function spaces and the treatment of degrees of freedom (dofs) that lie on the interface between $\\Gamma_N$ and $\\Gamma_D$. In the following, we will go through the implementation and point out how to correctly define all spaces involved."
   ]
  },
  {
   "cell_type": "markdown",
   "metadata": {},
   "source": [
    "### Implementation"
   ]
  },
  {
   "cell_type": "markdown",
   "metadata": {},
   "source": [
    "We start with the usual imports. In addition we increase the integration order, as in this example we will be working with spaces of quadratic functions."
   ]
  },
  {
   "cell_type": "code",
   "execution_count": 1,
   "metadata": {
    "collapsed": false
   },
   "outputs": [],
   "source": [
    "import bempp.api\n",
    "import numpy as np\n",
    "\n",
    "bempp.api.global_parameters.quadrature.medium.double_order = 4\n",
    "bempp.api.global_parameters.quadrature.far.double_order = 4"
   ]
  },
  {
   "cell_type": "markdown",
   "metadata": {},
   "source": [
    "We now define the domain. We use a standard unit cube. In the corresponding function all sides of the cube are already associated with different domain indices. We associate the indices 1 and 3 with the Dirichlet boundary and the other indices with the neumann boundary."
   ]
  },
  {
   "cell_type": "code",
   "execution_count": 2,
   "metadata": {
    "collapsed": false
   },
   "outputs": [],
   "source": [
    "grid = bempp.api.shapes.cube()\n",
    "dirichlet_segments = [1, 3]\n",
    "neumann_segments = [2, 4, 5, 6]"
   ]
  },
  {
   "cell_type": "markdown",
   "metadata": {},
   "source": [
    "We can now define the spaces. For the Neumann data, we use discontinuous polynomial basis functions of order 1. For the Dirichlet data, we use continuous basis functions of local polynomial order 2.\n",
    "\n",
    "We need global spaces for the Dirichlet and Neumann data and suitable spaces on the segments. The space definitions are as follows:\n",
    "\n",
    "* The ``neumann_space_dirichlet_segment`` space holds the unknown Neumann data $t$ on $\\Gamma_D$. For $\\Gamma_D$ we use the parameter ``closed=True``, meaning that all boundary edges and the associated dofs on the boundary edges are part of the space. The parameter ``element_on_segment=True`` implies that we restrict functions to elements that lie on elements associated with $\\Gamma_D$. This is important for dofs on boundary edges and excludes associated functions that lie just outside $\\Gamma_D$ on the other side of the boundary edge.\n",
    "\n",
    "* The ``neumann_space_neumann_segment`` space is defined on $\\Gamma_N$. $\\Gamma_N$ is open: the boundary edges are not part of the space. We again restrict basis functions to $\\Gamma_N$ by the parameter ``element_on_segment=True``. However, we also include all functions which are defined on elements of the space but whose reference points (i.e. the dof positions) are on the excluded boundary. This is achieved by the parameter ``reference_point_on_segment=False``. If it were set to ``True`` (default) it would only include dofs whose reference points lie in the segment and not on the excluded boundary.\n",
    "\n",
    "* The ``dirichlet_space_dirichlet_segment`` space is a space of continuous basis functions that holds the Dirichlet data on $\\Gamma_D$. The space is closed and by default basis functions are allowed to extend into the elements adjacent to $\\Gamma_D$. This extension is necessary because of the definition of the underlying Sobolev space on the segment. To control this behavior for continuous spaces the option ``strictly_on_segment`` exists, which is by default set to ``False``.\n",
    "\n",
    "* The ``dirichlet_space_neumann_segment`` is defined similarly to the ``dirichlet_space_dirichlet_segment`` but on the open segment $\\Gamma_N$.\n",
    "\n",
    "* For the discretisation of the Dirichlet data, we also need the space ``dual_dirichlet_space``. This is the correct dual space for projecting functions into the space of Dirichlet data."
   ]
  },
  {
   "cell_type": "code",
   "execution_count": 3,
   "metadata": {
    "collapsed": false
   },
   "outputs": [],
   "source": [
    "order_neumann = 1\n",
    "order_dirichlet = 2\n",
    "\n",
    "\n",
    "global_neumann_space = bempp.api.function_space(grid, \"DP\", order_neumann)\n",
    "global_dirichlet_space = bempp.api.function_space(grid, \"P\", order_dirichlet)\n",
    "\n",
    "neumann_space_dirichlet_segment = bempp.api.function_space(\n",
    "    grid, \"DP\", order_neumann, domains=dirichlet_segments,\n",
    "    closed=True, element_on_segment=True)\n",
    "\n",
    "neumann_space_neumann_segment = bempp.api.function_space(\n",
    "    grid, \"DP\", order_neumann, domains=neumann_segments,\n",
    "    closed=False, element_on_segment=True, reference_point_on_segment=False)\n",
    "\n",
    "dirichlet_space_dirichlet_segment = bempp.api.function_space(\n",
    "    grid, \"P\", order_dirichlet, domains=dirichlet_segments, closed=True)\n",
    "\n",
    "dirichlet_space_neumann_segment = bempp.api.function_space(\n",
    "    grid, \"P\", order_dirichlet, domains=neumann_segments, closed=False)\n",
    "\n",
    "dual_dirichlet_space = bempp.api.function_space(\n",
    "    grid, \"P\", order_dirichlet, domains=dirichlet_segments,\n",
    "    closed=True, strictly_on_segment=True)"
   ]
  },
  {
   "cell_type": "markdown",
   "metadata": {},
   "source": [
    "In the following, we define all operators on the corresponding spaces and the overall blocked operator."
   ]
  },
  {
   "cell_type": "code",
   "execution_count": 4,
   "metadata": {
    "collapsed": false
   },
   "outputs": [],
   "source": [
    "slp_DD = bempp.api.operators.boundary.laplace.single_layer(\n",
    "    neumann_space_dirichlet_segment,\n",
    "    dirichlet_space_dirichlet_segment,\n",
    "    neumann_space_dirichlet_segment)\n",
    "\n",
    "dlp_DN = bempp.api.operators.boundary.laplace.double_layer(\n",
    "    dirichlet_space_neumann_segment,\n",
    "    dirichlet_space_dirichlet_segment,\n",
    "    neumann_space_dirichlet_segment)\n",
    "\n",
    "adlp_ND = bempp.api.operators.boundary.laplace.adjoint_double_layer(\n",
    "    neumann_space_dirichlet_segment,\n",
    "    neumann_space_neumann_segment,\n",
    "    dirichlet_space_neumann_segment)\n",
    "\n",
    "hyp_NN = bempp.api.operators.boundary.laplace.hypersingular(\n",
    "    dirichlet_space_neumann_segment,\n",
    "    neumann_space_neumann_segment,\n",
    "    dirichlet_space_neumann_segment)\n",
    "\n",
    "slp_DN = bempp.api.operators.boundary.laplace.single_layer(\n",
    "    neumann_space_neumann_segment,\n",
    "    dirichlet_space_dirichlet_segment,\n",
    "    neumann_space_dirichlet_segment)\n",
    "\n",
    "dlp_DD = bempp.api.operators.boundary.laplace.double_layer(\n",
    "    dirichlet_space_dirichlet_segment,\n",
    "    dirichlet_space_dirichlet_segment,\n",
    "    neumann_space_dirichlet_segment)\n",
    "\n",
    "id_DD = bempp.api.operators.boundary.sparse.identity(\n",
    "    dirichlet_space_dirichlet_segment,\n",
    "    dirichlet_space_dirichlet_segment,\n",
    "    neumann_space_dirichlet_segment)\n",
    "\n",
    "adlp_NN = bempp.api.operators.boundary.laplace.adjoint_double_layer(\n",
    "    neumann_space_neumann_segment,\n",
    "    neumann_space_neumann_segment,\n",
    "    dirichlet_space_neumann_segment)\n",
    "\n",
    "id_NN = bempp.api.operators.boundary.sparse.identity(\n",
    "    neumann_space_neumann_segment,\n",
    "    neumann_space_neumann_segment,\n",
    "    dirichlet_space_neumann_segment)\n",
    "\n",
    "hyp_ND = bempp.api.operators.boundary.laplace.hypersingular(\n",
    "    dirichlet_space_dirichlet_segment,\n",
    "    neumann_space_neumann_segment,\n",
    "    dirichlet_space_neumann_segment)\n",
    "\n",
    "blocked = bempp.api.BlockedOperator(2, 2)\n",
    "\n",
    "blocked[0, 0] = slp_DD\n",
    "blocked[0, 1] = -dlp_DN\n",
    "blocked[1, 0] = adlp_ND\n",
    "blocked[1, 1] = hyp_NN"
   ]
  },
  {
   "cell_type": "markdown",
   "metadata": {},
   "source": [
    "Next, we define the functions of the Dirichlet and Neumann data and their discretisations on the corresponding segments."
   ]
  },
  {
   "cell_type": "code",
   "execution_count": 5,
   "metadata": {
    "collapsed": false
   },
   "outputs": [],
   "source": [
    "def dirichlet_data_fun(x):\n",
    "    return 1\n",
    "    \n",
    "def dirichlet_data(x, n, domain_index, res):\n",
    "    res[0] = dirichlet_data_fun(x)\n",
    "    \n",
    "def neumann_data_fun(x):\n",
    "    return 1\n",
    " \n",
    "def neumann_data(x, n, domain_index, res):\n",
    "    res[0] = neumann_data_fun(x)\n",
    "\n",
    "dirichlet_grid_fun = bempp.api.GridFunction(\n",
    "    dirichlet_space_dirichlet_segment,\n",
    "    fun=dirichlet_data, dual_space=dual_dirichlet_space)\n",
    "\n",
    "neumann_grid_fun = bempp.api.GridFunction(\n",
    "    neumann_space_neumann_segment,\n",
    "    fun=neumann_data, dual_space=dirichlet_space_neumann_segment)\n",
    "\n",
    "rhs_fun1 = (.5 * id_DD + dlp_DD) * dirichlet_grid_fun \\\n",
    "           - slp_DN * neumann_grid_fun\n",
    "rhs_fun2 = - hyp_ND * dirichlet_grid_fun \\\n",
    "           + (.5 * id_NN - adlp_NN) * neumann_grid_fun"
   ]
  },
  {
   "cell_type": "markdown",
   "metadata": {},
   "source": [
    "We can now discretise and solve the blocked operator system. We solve without preconditioner. This would cause problems if we were to further increase the degree of the basis functions."
   ]
  },
  {
   "cell_type": "code",
   "execution_count": 6,
   "metadata": {
    "collapsed": false
   },
   "outputs": [],
   "source": [
    "lhs = blocked.weak_form()\n",
    "rhs = np.hstack([rhs_fun1.projections(neumann_space_dirichlet_segment), \n",
    "                 rhs_fun2.projections(dirichlet_space_neumann_segment)])\n",
    "\n",
    "from scipy.sparse.linalg import gmres\n",
    "x, info = gmres(lhs, rhs)"
   ]
  },
  {
   "cell_type": "markdown",
   "metadata": {},
   "source": [
    "Next, we split up the solution vector and define the grid functions associated with the computed Neumann and Dirichlet data."
   ]
  },
  {
   "cell_type": "code",
   "execution_count": 7,
   "metadata": {
    "collapsed": true
   },
   "outputs": [],
   "source": [
    "nx0 = neumann_space_dirichlet_segment.global_dof_count\n",
    "\n",
    "neumann_solution = bempp.api.GridFunction(\n",
    "    neumann_space_dirichlet_segment, coefficients=x[:nx0])\n",
    "dirichlet_solution = bempp.api.GridFunction(\n",
    "    dirichlet_space_neumann_segment, coefficients=x[nx0:])"
   ]
  },
  {
   "cell_type": "markdown",
   "metadata": {},
   "source": [
    "We want to recombine the computed Dirichlet and Neumann data with the corresponding known data in order to get Dirichlet and Neumann grid functions defined on the whole grid. To achieve this we define identity operators from $\\Gamma_N$ and $\\Gamma_D$ into the global Dirichlet and Neumann spaces."
   ]
  },
  {
   "cell_type": "code",
   "execution_count": 8,
   "metadata": {
    "collapsed": false
   },
   "outputs": [],
   "source": [
    "neumann_imbedding_dirichlet_segment = \\\n",
    "    bempp.api.operators.boundary.sparse.identity(\n",
    "        neumann_space_dirichlet_segment,\n",
    "        global_neumann_space,\n",
    "        global_neumann_space)\n",
    "\n",
    "neumann_imbedding_neumann_segment = \\\n",
    "    bempp.api.operators.boundary.sparse.identity(\n",
    "        neumann_space_neumann_segment,\n",
    "        global_neumann_space,\n",
    "        global_neumann_space)\n",
    "\n",
    "dirichlet_imbedding_dirichlet_segment = \\\n",
    "    bempp.api.operators.boundary.sparse.identity(\n",
    "        dirichlet_space_dirichlet_segment,\n",
    "        global_dirichlet_space,\n",
    "        global_dirichlet_space)\n",
    "\n",
    "dirichlet_imbedding_neumann_segment = \\\n",
    "    bempp.api.operators.boundary.sparse.identity(\n",
    "        dirichlet_space_neumann_segment,\n",
    "        global_dirichlet_space,\n",
    "        global_dirichlet_space)\n",
    "\n",
    "dirichlet = (dirichlet_imbedding_dirichlet_segment * dirichlet_grid_fun +\n",
    "             dirichlet_imbedding_neumann_segment * dirichlet_solution)\n",
    "\n",
    "neumann = (neumann_imbedding_neumann_segment * neumann_grid_fun +\n",
    "           neumann_imbedding_dirichlet_segment * neumann_solution)\n",
    "\n",
    "dirichlet.plot()"
   ]
  },
  {
   "cell_type": "markdown",
   "metadata": {},
   "source": [
    "We can plot the solution using the command ``dirichlet.plot()``. The solution looks as follows. <img src=\"cube_mixed_solution.png\">"
   ]
  }
 ],
 "metadata": {
  "kernelspec": {
   "display_name": "Python 2",
   "language": "python",
   "name": "python2"
  },
  "language_info": {
   "codemirror_mode": {
    "name": "ipython",
    "version": 2
   },
   "file_extension": ".py",
   "mimetype": "text/x-python",
   "name": "python",
   "nbconvert_exporter": "python",
   "pygments_lexer": "ipython2",
   "version": "2.7.13"
  }
 },
 "nbformat": 4,
 "nbformat_minor": 0
}
