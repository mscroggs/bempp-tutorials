{
 "cells": [
  {
   "cell_type": "markdown",
   "metadata": {},
   "source": [
    "# Solving a mixed Neumann-Dirichlet Problem"
   ]
  },
  {
   "cell_type": "markdown",
   "metadata": {},
   "source": [
    "### Background"
   ]
  },
  {
   "cell_type": "markdown",
   "metadata": {},
   "source": [
    "With BEM++ it is possible to define operators only on segments of a given domain. This makes it possible to solve mixed Neumann-Dirichlet problems. In the following we solve the Laplace equation inside the unit cube with unit Dirichlet boundary conditions on two sides and unit Neumann boundary conditions on the other four sides.\n",
    "\n",
    "Denote by $\\Gamma_D$ the part of the boundary that holds the Dirichlet boundary conditions and by $\\Gamma_N$ the boundary part that holds the Neumann boundary conditions. We denote by $t\\in\\Gamma_D$ the unkown Neumann data and by $u\\in\\Gamma_N$ the unknown Dirichlet data. The given Dirichlet data on $\\Gamma_D$ is denoted by $g_D$ and the given Neumann data on $\\Gamma_N$ is denoted by $g_N$.\n",
    "\n",
    "From Green's representation theorem it follows that\n",
    "$$\n",
    "\\begin{align}\n",
    "\\left[Vt\\right](x) - \\left[Ku\\right](x) &= \\left[\\frac{1}{2}I + K\\right]g_D(x) - Vg_N(x),\\quad x\\in\\Gamma_D\\\\\n",
    "\\left[Du\\right](x) + \\left[K't\\right](x) &=\\left[\\frac{1}{2}I - K'\\right]g_N(x) - Dg_D(x),\\quad x\\in\\Gamma_N\n",
    "\\end{align}\n",
    "$$\n",
    "Here, as usual $V$ is the single layer, $K$ the double layer, $K'$ the adjoint double layer and $D$ the hypersingular boundary operator.\n",
    "\n",
    "The difficulty in the implementation is the definition of the discrete function spaces and the treatment of dofs that lie on the interface between $\\Gamma_N$ and $\\Gamma_D$. In the following we will go through the implementation and point out how to correctly define all spaces involved."
   ]
  },
  {
   "cell_type": "markdown",
   "metadata": {},
   "source": [
    "### Implementation"
   ]
  },
  {
   "cell_type": "markdown",
   "metadata": {},
   "source": [
    "We start with the usual imports. In addition we increase the integration order as in this example we will be working with spaces of quadratic functions."
   ]
  },
  {
   "cell_type": "code",
   "execution_count": 1,
   "metadata": {
    "collapsed": false
   },
   "outputs": [
    {
     "name": "stderr",
     "output_type": "stream",
     "text": [
      "INFO:BEMPP:Dolfin could not be imported. FEM/BEM coupling with FEniCS not available.\n"
     ]
    }
   ],
   "source": [
    "import bempp.api\n",
    "import numpy as np\n",
    "\n",
    "bempp.api.global_parameters.quadrature.medium.double_order = 4\n",
    "bempp.api.global_parameters.quadrature.far.double_order = 4"
   ]
  },
  {
   "cell_type": "markdown",
   "metadata": {},
   "source": [
    "We now define the domain. We use a standard unit cube. In the corresponding function all sides of the cube are already associated with different domain indices. We associate the indices 1 and 3 with the Dirichlet boundary and the other indices with the neumann boundary."
   ]
  },
  {
   "cell_type": "code",
   "execution_count": 2,
   "metadata": {
    "collapsed": false
   },
   "outputs": [
    {
     "name": "stderr",
     "output_type": "stream",
     "text": [
      "INFO:BEMPP:Created grid with 1466 elements, 735 nodes and 2199 edges.\n"
     ]
    }
   ],
   "source": [
    "grid = bempp.api.shapes.cube()\n",
    "dirichlet_segments = [1, 3]\n",
    "neumann_segments = [2, 4, 5, 6]"
   ]
  },
  {
   "cell_type": "markdown",
   "metadata": {},
   "source": [
    "We can now define the spaces. For the Neumann data we use discontinuous basis functions order 1. For the Dirichlet data we use continuous basis functions of local polynomial order 2.\n",
    "\n",
    "We need global spaces for the Dirichlet and Neumann data and suitable spaces on the segments. In the following we list the space definitions.\n",
    "\n",
    "* The ``neumann_space_dirichlet_segment`` space holds the unknown Neumann data $t$ on $\\Gamma_D$. For $\\Gamma_D$ we use the parameter ``closed=True``, meaning that all boundary edges and the associated dofs on the boundary edges are part of the space. The parameter ``element_on_segment=True`` implies that we restrict functions to elements that lie on elements associated with $\\Gamma_D$. This is important for dofs on boundary edges and excludes associated functions that lie just outside $\\Gamma_D$ on the other side of the boundary edge.\n",
    "\n",
    "* The ``neumann_space_neumann_segment`` space is defined on $\\Gamma_N$. $\\Gamma_N$ is open, that is boundary edges are not part of the space. We again restrict basis functions to $\\Gamma_N$ by the parameter ``element_on_segment=True``. However, we also include all functions which are defined on elements of the space but whose reference points (i.e. the dof positions) are on the excluded boundary. This is achieved by the parameter ``reference_point_on_segment=False``. If it were set to true (default) it would only include dofs whose reference points lie in the segment and not on the excluded boundary.\n",
    "\n",
    "* The ``dirichlet_space_dirichlet_segment`` space is a space of continuous basis functions that holds the Dirichlet data on $\\Gamma_D$. The space is closed and by default basis functions are allowed to extend into the elements adjacent to $\\Gamma_D$. This extension is necessary because of the definition of the underlying Sobolev space on the segment. To control this behavior for continuous spaces the option ``strictly_on_segment`` exists, which is by default set to false.\n",
    "\n",
    "* The ``dirichlet_space_neumann_segment`` is defined similar to the ``dirichlet_space_dirichlet_segment`` but on the open segment $\\Gamma_N$.\n",
    "\n",
    "* For the discretization of the Dirichlet data we also need the space ``dual_dirichlet_space``. This is the correct dual space for projecting functions into the space of Dirichlet data."
   ]
  },
  {
   "cell_type": "code",
   "execution_count": 3,
   "metadata": {
    "collapsed": false
   },
   "outputs": [],
   "source": [
    "\n",
    "order_neumann = 1\n",
    "order_dirichlet = 2\n",
    "\n",
    "\n",
    "global_neumann_space = bempp.api.function_space(grid, \"DP\", order_neumann)\n",
    "global_dirichlet_space = bempp.api.function_space(grid, \"P\", order_dirichlet)\n",
    "\n",
    "neumann_space_dirichlet_segment = bempp.api.function_space(grid, \"DP\", order_neumann, \n",
    "                                                           domains=dirichlet_segments, closed=True,\n",
    "                                                          element_on_segment=True)\n",
    "                                    \n",
    "\n",
    "neumann_space_neumann_segment = bempp.api.function_space(grid, \"DP\", order_neumann,\n",
    "                                                         domains=neumann_segments, closed=False,\n",
    "                                                        element_on_segment=True,\n",
    "                                                        reference_point_on_segment=False)\n",
    "\n",
    "dirichlet_space_dirichlet_segment = bempp.api.function_space(grid, \"P\", order_dirichlet,\n",
    "                                                            domains=dirichlet_segments, closed=True)\n",
    "\n",
    "dirichlet_space_neumann_segment = bempp.api.function_space(grid, \"P\", order_dirichlet,\n",
    "                                                            domains=neumann_segments, closed=False)\n",
    "\n",
    "dual_dirichlet_space = bempp.api.function_space(grid, \"P\", order_dirichlet, domains=dirichlet_segments,\n",
    "                                               closed=True, strictly_on_segment=True)\n"
   ]
  },
  {
   "cell_type": "markdown",
   "metadata": {},
   "source": [
    "In the following we define all operators on the corresponding spaces and the overall block operator."
   ]
  },
  {
   "cell_type": "code",
   "execution_count": 4,
   "metadata": {
    "collapsed": false
   },
   "outputs": [],
   "source": [
    "slp_DD = bempp.api.operators.boundary.laplace.single_layer(neumann_space_dirichlet_segment,\n",
    "                                                          dirichlet_space_dirichlet_segment,\n",
    "                                                          neumann_space_dirichlet_segment)\n",
    "\n",
    "dlp_DN = bempp.api.operators.boundary.laplace.double_layer(dirichlet_space_neumann_segment,\n",
    "                                                          dirichlet_space_dirichlet_segment,\n",
    "                                                          neumann_space_dirichlet_segment)\n",
    "\n",
    "adlp_ND = bempp.api.operators.boundary.laplace.adjoint_double_layer(neumann_space_dirichlet_segment,\n",
    "                                                                   neumann_space_neumann_segment,\n",
    "                                                                   dirichlet_space_neumann_segment)\n",
    "\n",
    "hyp_NN = bempp.api.operators.boundary.laplace.hypersingular(dirichlet_space_neumann_segment,\n",
    "                                                   neumann_space_neumann_segment,\n",
    "                                                   dirichlet_space_neumann_segment)\n",
    "\n",
    "slp_DN = bempp.api.operators.boundary.laplace.single_layer(neumann_space_neumann_segment,\n",
    "                                                  dirichlet_space_dirichlet_segment,\n",
    "                                                  neumann_space_dirichlet_segment)\n",
    "\n",
    "dlp_DD = bempp.api.operators.boundary.laplace.double_layer(dirichlet_space_dirichlet_segment,\n",
    "                                                  dirichlet_space_dirichlet_segment,\n",
    "                                                  neumann_space_dirichlet_segment)\n",
    "\n",
    "id_DD = bempp.api.operators.boundary.sparse.identity(dirichlet_space_dirichlet_segment,\n",
    "                                            dirichlet_space_dirichlet_segment,\n",
    "                                            neumann_space_dirichlet_segment)\n",
    "\n",
    "adlp_NN = bempp.api.operators.boundary.laplace.adjoint_double_layer(neumann_space_neumann_segment,\n",
    "                                                           neumann_space_neumann_segment,\n",
    "                                                           dirichlet_space_neumann_segment)\n",
    "\n",
    "id_NN = bempp.api.operators.boundary.sparse.identity(neumann_space_neumann_segment,\n",
    "                                                    neumann_space_neumann_segment,\n",
    "                                                    dirichlet_space_neumann_segment)\n",
    "\n",
    "hyp_ND = bempp.api.operators.boundary.laplace.hypersingular(dirichlet_space_dirichlet_segment,\n",
    "                                                   neumann_space_neumann_segment,\n",
    "                                                   dirichlet_space_neumann_segment)\n",
    "\n",
    "blocked = bempp.api.BlockedOperator(2, 2)\n",
    "\n",
    "blocked[0, 0] = slp_DD\n",
    "blocked[0, 1] = -dlp_DN\n",
    "blocked[1, 0] = adlp_ND\n",
    "blocked[1, 1] = hyp_NN"
   ]
  },
  {
   "cell_type": "markdown",
   "metadata": {},
   "source": [
    "In the following we define the functions of the Dirichlet and Neumann data and their discretizations on the corresponding segments."
   ]
  },
  {
   "cell_type": "code",
   "execution_count": 5,
   "metadata": {
    "collapsed": false
   },
   "outputs": [
    {
     "name": "stderr",
     "output_type": "stream",
     "text": [
      "INFO:BEMPP:IDENTITY. START ASSEMBLY. Dim: (1037,1037). Assembly Type: sparse\n",
      "INFO:BEMPP:IDENTITY. FINISHED ASSEMBLY. Time: 7.49E-03 sec.\n",
      "INFO:BEMPP:Start computing LU (pseudo)-inverse of (1037, 1037) matrix.\n",
      "INFO:BEMPP:Finished computation of inverse in 3.49E-03 seconds.\n",
      "INFO:BEMPP:Start computing LU (pseudo)-inverse of (1037, 1037) matrix.\n",
      "INFO:BEMPP:Finished computation of inverse in 3.05E-03 seconds.\n",
      "INFO:BEMPP:IDENTITY. START ASSEMBLY. Dim: (2934,1897). Assembly Type: sparse\n",
      "INFO:BEMPP:IDENTITY. FINISHED ASSEMBLY. Time: 8.32E-03 sec.\n",
      "INFO:BEMPP:Start computing LU (pseudo)-inverse of (1897, 2934) matrix.\n",
      "INFO:BEMPP:Finished computation of inverse in 9.68E-03 seconds.\n",
      "INFO:BEMPP:Start computing LU (pseudo)-inverse of (1897, 2934) matrix.\n",
      "INFO:BEMPP:Finished computation of inverse in 9.26E-03 seconds.\n",
      "INFO:BEMPP:IDENTITY. START ASSEMBLY. Dim: (1037,1464). Assembly Type: sparse\n",
      "INFO:BEMPP:IDENTITY. FINISHED ASSEMBLY. Time: 6.71E-03 sec.\n",
      "INFO:BEMPP:Start computing LU (pseudo)-inverse of (1464, 1037) matrix.\n",
      "INFO:BEMPP:Finished computation of inverse in 4.69E-03 seconds.\n",
      "INFO:BEMPP:Start computing LU (pseudo)-inverse of (1464, 1037) matrix.\n",
      "INFO:BEMPP:Finished computation of inverse in 4.29E-03 seconds.\n",
      "INFO:BEMPP:IDENTITY. START ASSEMBLY. Dim: (1037,1464). Assembly Type: sparse\n",
      "INFO:BEMPP:IDENTITY. FINISHED ASSEMBLY. Time: 7.30E-03 sec.\n",
      "INFO:BEMPP:DLP. START ASSEMBLY. Dim: (1037,1464). Assembly Type: hmat\n",
      "INFO:BEMPP:DLP. FINISHED ASSEMBLY. Time: 7.73E-01 sec. Mem Size (Mb): 2.37E+00. Compression: 2.05E-01\n",
      "INFO:BEMPP:IDENTITY. START ASSEMBLY. Dim: (1037,1464). Assembly Type: sparse\n",
      "INFO:BEMPP:IDENTITY. FINISHED ASSEMBLY. Time: 6.92E-03 sec.\n",
      "INFO:BEMPP:Start computing LU (pseudo)-inverse of (1464, 1037) matrix.\n",
      "INFO:BEMPP:Finished computation of inverse in 3.51E-03 seconds.\n",
      "INFO:BEMPP:Start computing LU (pseudo)-inverse of (1464, 1037) matrix.\n",
      "INFO:BEMPP:Finished computation of inverse in 3.59E-03 seconds.\n",
      "INFO:BEMPP:SLP. START ASSEMBLY. Dim: (2934,1464). Assembly Type: hmat\n",
      "INFO:BEMPP:SLP. FINISHED ASSEMBLY. Time: 5.10E-01 sec. Mem Size (Mb): 3.87E+00. Compression: 1.18E-01\n",
      "INFO:BEMPP:IDENTITY. START ASSEMBLY. Dim: (2934,1897). Assembly Type: sparse\n",
      "INFO:BEMPP:IDENTITY. FINISHED ASSEMBLY. Time: 6.96E-03 sec.\n",
      "INFO:BEMPP:Start computing LU (pseudo)-inverse of (1897, 2934) matrix.\n",
      "INFO:BEMPP:Finished computation of inverse in 9.34E-03 seconds.\n",
      "INFO:BEMPP:Start computing LU (pseudo)-inverse of (1897, 2934) matrix.\n",
      "INFO:BEMPP:Finished computation of inverse in 1.28E-02 seconds.\n",
      "INFO:BEMPP:HYP. START ASSEMBLY. Dim: (1037,1897). Assembly Type: hmat\n",
      "INFO:BEMPP:HYP. FINISHED ASSEMBLY. Time: 2.96E+00 sec. Mem Size (Mb): 3.49E+00. Compression: 2.33E-01\n",
      "INFO:BEMPP:IDENTITY. START ASSEMBLY. Dim: (2934,1897). Assembly Type: sparse\n",
      "INFO:BEMPP:IDENTITY. FINISHED ASSEMBLY. Time: 7.01E-03 sec.\n",
      "INFO:BEMPP:Start computing LU (pseudo)-inverse of (1897, 2934) matrix.\n",
      "INFO:BEMPP:Finished computation of inverse in 8.77E-03 seconds.\n",
      "INFO:BEMPP:Start computing LU (pseudo)-inverse of (1897, 2934) matrix.\n",
      "INFO:BEMPP:Finished computation of inverse in 1.18E-02 seconds.\n",
      "INFO:BEMPP:IDENTITY. START ASSEMBLY. Dim: (2934,1897). Assembly Type: sparse\n",
      "INFO:BEMPP:IDENTITY. FINISHED ASSEMBLY. Time: 1.04E-02 sec.\n",
      "INFO:BEMPP:ADJ_DLP. START ASSEMBLY. Dim: (2934,1897). Assembly Type: hmat\n",
      "INFO:BEMPP:ADJ_DLP. FINISHED ASSEMBLY. Time: 1.98E+00 sec. Mem Size (Mb): 7.97E+00. Compression: 1.88E-01\n"
     ]
    }
   ],
   "source": [
    "def dirichlet_data_fun(x):\n",
    "    return 1\n",
    "    \n",
    "def dirichlet_data(x, n, domain_index, res):\n",
    "    res[0] = dirichlet_data_fun(x)\n",
    "    \n",
    "def neumann_data_fun(x):\n",
    "    return 1\n",
    " \n",
    "def neumann_data(x, n, domain_index, res):\n",
    "    res[0] = neumann_data_fun(x)\n",
    "\n",
    "dirichlet_grid_fun = bempp.api.GridFunction(dirichlet_space_dirichlet_segment,\n",
    "                                            fun=dirichlet_data,\n",
    "                                            dual_space=dual_dirichlet_space)\n",
    "\n",
    "neumann_grid_fun = bempp.api.GridFunction(neumann_space_neumann_segment,\n",
    "                                         fun=neumann_data,\n",
    "                                         dual_space=dirichlet_space_neumann_segment)\n",
    "\n",
    "rhs_fun1 = (.5 * id_DD + dlp_DD) * dirichlet_grid_fun - slp_DN * neumann_grid_fun\n",
    "rhs_fun2 = -hyp_ND * dirichlet_grid_fun + (.5 * id_NN - adlp_NN) * neumann_grid_fun"
   ]
  },
  {
   "cell_type": "markdown",
   "metadata": {},
   "source": [
    "We can now discretize and solve the block operator system. We solve without preconditioner. This causes problems if we further increase the degree of the basis functions."
   ]
  },
  {
   "cell_type": "code",
   "execution_count": 6,
   "metadata": {
    "collapsed": false
   },
   "outputs": [
    {
     "name": "stderr",
     "output_type": "stream",
     "text": [
      "INFO:BEMPP:SLP. START ASSEMBLY. Dim: (1464,1464). Assembly Type: hmat\n",
      "INFO:BEMPP:SLP. FINISHED ASSEMBLY. Time: 8.86E-01 sec. Mem Size (Mb): 4.12E+00. Compression: 2.52E-01\n",
      "INFO:BEMPP:DLP. START ASSEMBLY. Dim: (1897,1464). Assembly Type: hmat\n",
      "INFO:BEMPP:DLP. FINISHED ASSEMBLY. Time: 1.02E+00 sec. Mem Size (Mb): 3.58E+00. Compression: 1.69E-01\n",
      "INFO:BEMPP:ADJ_DLP. START ASSEMBLY. Dim: (1464,1897). Assembly Type: hmat\n",
      "INFO:BEMPP:ADJ_DLP. FINISHED ASSEMBLY. Time: 1.03E+00 sec. Mem Size (Mb): 3.60E+00. Compression: 1.70E-01\n",
      "INFO:BEMPP:HYP. START ASSEMBLY. Dim: (1897,1897). Assembly Type: hmat\n",
      "INFO:BEMPP:HYP. FINISHED ASSEMBLY. Time: 5.44E+00 sec. Mem Size (Mb): 7.45E+00. Compression: 2.71E-01\n",
      "INFO:BEMPP:IDENTITY. START ASSEMBLY. Dim: (1037,1464). Assembly Type: sparse\n",
      "INFO:BEMPP:IDENTITY. FINISHED ASSEMBLY. Time: 8.30E-03 sec.\n",
      "INFO:BEMPP:IDENTITY. START ASSEMBLY. Dim: (2934,1897). Assembly Type: sparse\n",
      "INFO:BEMPP:IDENTITY. FINISHED ASSEMBLY. Time: 9.42E-03 sec.\n"
     ]
    }
   ],
   "source": [
    "# Discretize and solve the system\n",
    "\n",
    "lhs = blocked.weak_form()\n",
    "rhs = np.hstack([rhs_fun1.projections(neumann_space_dirichlet_segment), \n",
    "                 rhs_fun2.projections(dirichlet_space_neumann_segment)])\n",
    "\n",
    "from scipy.sparse.linalg import gmres\n",
    "x, info = gmres(lhs, rhs)"
   ]
  },
  {
   "cell_type": "markdown",
   "metadata": {},
   "source": [
    "In the following we split up the solution vector and define the grid functions associated with the computed Neumann and Dirichlet data."
   ]
  },
  {
   "cell_type": "code",
   "execution_count": 7,
   "metadata": {
    "collapsed": true
   },
   "outputs": [],
   "source": [
    "nx0 = neumann_space_dirichlet_segment.global_dof_count\n",
    "neumann_solution = bempp.api.GridFunction(neumann_space_dirichlet_segment, coefficients=x[:nx0])\n",
    "dirichlet_solution = bempp.api.GridFunction(dirichlet_space_neumann_segment, coefficients=x[nx0:])"
   ]
  },
  {
   "cell_type": "markdown",
   "metadata": {},
   "source": [
    "We want to recombine the computed Dirichlet and Neumann data with the corresponding known data in order to get Dirichlet and Neumann grid functions defined on the whole grid. To achieve this we define identity operators from $\\Gamma_N$ and $\\Gamma_D$ into the global Dirichlet and Neumann spaces."
   ]
  },
  {
   "cell_type": "code",
   "execution_count": 8,
   "metadata": {
    "collapsed": false
   },
   "outputs": [
    {
     "name": "stderr",
     "output_type": "stream",
     "text": [
      "INFO:BEMPP:IDENTITY. START ASSEMBLY. Dim: (2934,2934). Assembly Type: sparse\n",
      "INFO:BEMPP:IDENTITY. FINISHED ASSEMBLY. Time: 8.56E-03 sec.\n",
      "INFO:BEMPP:Start computing LU (pseudo)-inverse of (2934, 2934) matrix.\n",
      "INFO:BEMPP:Finished computation of inverse in 2.62E-02 seconds.\n",
      "INFO:BEMPP:Start computing LU (pseudo)-inverse of (2934, 2934) matrix.\n",
      "INFO:BEMPP:Finished computation of inverse in 2.81E-02 seconds.\n",
      "INFO:BEMPP:IDENTITY. START ASSEMBLY. Dim: (1037,2934). Assembly Type: sparse\n",
      "INFO:BEMPP:IDENTITY. FINISHED ASSEMBLY. Time: 8.43E-03 sec.\n",
      "INFO:BEMPP:IDENTITY. START ASSEMBLY. Dim: (2934,2934). Assembly Type: sparse\n",
      "INFO:BEMPP:IDENTITY. FINISHED ASSEMBLY. Time: 7.90E-03 sec.\n",
      "INFO:BEMPP:Start computing LU (pseudo)-inverse of (2934, 2934) matrix.\n",
      "INFO:BEMPP:Finished computation of inverse in 2.35E-02 seconds.\n",
      "INFO:BEMPP:Start computing LU (pseudo)-inverse of (2934, 2934) matrix.\n",
      "INFO:BEMPP:Finished computation of inverse in 2.58E-02 seconds.\n",
      "INFO:BEMPP:IDENTITY. START ASSEMBLY. Dim: (1897,2934). Assembly Type: sparse\n",
      "INFO:BEMPP:IDENTITY. FINISHED ASSEMBLY. Time: 8.23E-03 sec.\n",
      "INFO:BEMPP:IDENTITY. START ASSEMBLY. Dim: (4398,4398). Assembly Type: sparse\n",
      "INFO:BEMPP:IDENTITY. FINISHED ASSEMBLY. Time: 6.12E-03 sec.\n",
      "INFO:BEMPP:Start computing LU (pseudo)-inverse of (4398, 4398) matrix.\n",
      "INFO:BEMPP:Finished computation of inverse in 9.50E-04 seconds.\n",
      "INFO:BEMPP:Start computing LU (pseudo)-inverse of (4398, 4398) matrix.\n",
      "INFO:BEMPP:Finished computation of inverse in 1.08E-03 seconds.\n",
      "INFO:BEMPP:IDENTITY. START ASSEMBLY. Dim: (2934,4398). Assembly Type: sparse\n",
      "INFO:BEMPP:IDENTITY. FINISHED ASSEMBLY. Time: 8.02E-03 sec.\n",
      "INFO:BEMPP:IDENTITY. START ASSEMBLY. Dim: (4398,4398). Assembly Type: sparse\n",
      "INFO:BEMPP:IDENTITY. FINISHED ASSEMBLY. Time: 6.25E-03 sec.\n",
      "INFO:BEMPP:Start computing LU (pseudo)-inverse of (4398, 4398) matrix.\n",
      "INFO:BEMPP:Finished computation of inverse in 1.02E-03 seconds.\n",
      "INFO:BEMPP:Start computing LU (pseudo)-inverse of (4398, 4398) matrix.\n",
      "INFO:BEMPP:Finished computation of inverse in 1.16E-03 seconds.\n",
      "INFO:BEMPP:IDENTITY. START ASSEMBLY. Dim: (1464,4398). Assembly Type: sparse\n",
      "INFO:BEMPP:IDENTITY. FINISHED ASSEMBLY. Time: 7.30E-03 sec.\n"
     ]
    }
   ],
   "source": [
    "neumann_imbedding_dirichlet_segment = bempp.api.operators.boundary.sparse.identity(neumann_space_dirichlet_segment,\n",
    "                                                            global_neumann_space,\n",
    "                                                            global_neumann_space)\n",
    "\n",
    "neumann_imbedding_neumann_segment = bempp.api.operators.boundary.sparse.identity(neumann_space_neumann_segment,\n",
    "                                                                            global_neumann_space,\n",
    "                                                                            global_neumann_space)\n",
    "\n",
    "dirichlet_imbedding_dirichlet_segment = bempp.api.operators.boundary.sparse.identity(dirichlet_space_dirichlet_segment,\n",
    "                                                                                global_dirichlet_space,\n",
    "                                                                                global_dirichlet_space)\n",
    "\n",
    "dirichlet_imbedding_neumann_segment = bempp.api.operators.boundary.sparse.identity(dirichlet_space_neumann_segment,\n",
    "                                                                              global_dirichlet_space,\n",
    "                                                                              global_dirichlet_space)\n",
    "\n",
    "dirichlet = (dirichlet_imbedding_dirichlet_segment * dirichlet_grid_fun +\n",
    "             dirichlet_imbedding_neumann_segment * dirichlet_solution)\n",
    "\n",
    "neumann = (neumann_imbedding_neumann_segment * neumann_grid_fun +\n",
    "           neumann_imbedding_dirichlet_segment * neumann_solution)\n",
    "\n",
    "dirichlet.plot()"
   ]
  },
  {
   "cell_type": "markdown",
   "metadata": {},
   "source": [
    "We can plot the solution using the command ``dirichlet.plot()``. The solution looks as follows. <img src=\"cube_mixed_solution.png\">"
   ]
  },
  {
   "cell_type": "code",
   "execution_count": null,
   "metadata": {
    "collapsed": true
   },
   "outputs": [],
   "source": []
  }
 ],
 "metadata": {
  "kernelspec": {
   "display_name": "Python 2",
   "language": "python",
   "name": "python2"
  },
  "language_info": {
   "codemirror_mode": {
    "name": "ipython",
    "version": 2
   },
   "file_extension": ".py",
   "mimetype": "text/x-python",
   "name": "python",
   "nbconvert_exporter": "python",
   "pygments_lexer": "ipython2",
   "version": "2.7.10"
  }
 },
 "nbformat": 4,
 "nbformat_minor": 0
}
