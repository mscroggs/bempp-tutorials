{
 "cells": [
  {
   "cell_type": "markdown",
   "metadata": {},
   "source": [
    "# Electromagnetic scattering from a screen"
   ]
  },
  {
   "cell_type": "markdown",
   "metadata": {},
   "source": [
    "### Background"
   ]
  },
  {
   "cell_type": "markdown",
   "metadata": {},
   "source": [
    "In this tutorial, we consider the scattering of an electromagnetic wave from a perfectly conducting screen $\\Gamma:=[-2,2]\\times[-1,1]\\times0$. The time-harmonic Maxwell equation for the electric field $\\mathbf{E}$ reduces to\n",
    "\n",
    "$$\n",
    "\\nabla\\times\\nabla\\times \\mathbf{E} -k^2 \\mathbf{E} = 0\n",
    "$$\n",
    "\n",
    "in $\\mathbb{R}^3\\backslash\\Gamma$, where $k:=2\\pi/\\lambda$ is the wavenumber and $\\lambda$ is the wavelength. The electric field $\\mathbf{E}$ is the sum of the incident field $\\mathbf{E}^\\text{inc}$ and the scattered field $\\mathbf{E}^\\text{s}$. Here, we use the incident field given by\n",
    "\n",
    "$$\n",
    "\\mathbf{E}^\\text{inc}(\\mathbf{x}):=\\begin{bmatrix} \\mathrm{e}^{\\mathrm{i}kz} & 0 & 0 \\end{bmatrix},\n",
    "$$\n",
    "\n",
    "which is a wave travelling in the $z$ direction and polarised in the $x$ direction. On the screen, the tangential component $\\mathbf{E}_\\text{t}:=\\nu\\times \\mathbf{E}$ must be zero. Towards infinity we impose the Silver&ndash;M&uuml;ller radiation condition\n",
    "\n",
    "$$\n",
    "\\lim_{|\\mathbf{x}|\\rightarrow\\infty} |\\mathbf{x}|\\left(\\nabla\\times \\mathbf{E}^\\text{s}\\times\\frac{\\mathbf{x}}{|\\mathbf{x}|}-\\mathrm{i}k\\mathbf{E}^\\text{s}\\right) = 0,\n",
    "$$\n",
    "where $\\hat{\\mathbf{x}}=\\mathbf{x}/|\\mathbf{x}|$.\n",
    "\n",
    "The scattered wave $\\mathbf{E}^\\text{s}$ has the representation\n",
    "\n",
    "$$\n",
    "\\mathbf{E}^\\text{s} = -\\mathcal{E}\\Lambda,\n",
    "$$\n",
    "\n",
    "where $\\Lambda$ is the jump of the Neumann trace of the scattered field $\\mathbf{E}^\\text{s}$ across the screen. The <a href='https://bempp.com/2017/07/11/available_operators/'>Maxwell electric field potential operator</a> $\\mathcal{E}$ is defined as\n",
    "\n",
    "$$\n",
    "\\mathcal{E}(\\mathbf{v}):=\\mathrm{i}k\\int_{\\Gamma}g(\\mathbf{x},\\mathbf{y})\\mathbf{v}(\\mathbf{y})\\mathrm{d}\\mathbf{y}-\n",
    "\\frac1{\\mathrm{i}k}\\nabla_{\\mathbf{x}}\\int_{\\Gamma}g(\\mathbf{x},\\mathbf{y})(\\nabla_{\\Gamma}\\cdot\\mathbf{v})(\\mathbf{y})\\mathrm{d}\\mathbf{y}\n",
    "$$\n",
    "with $g(\\mathbf{x},\\mathbf{y}):=\\frac{\\mathrm{e}^{\\mathrm{i}k|\\mathbf{x}-\\mathbf{y}|}}{4\\pi|\\mathbf{x}-\\mathbf{y}|}$.\n",
    "\n",
    "The associated boundary operator is denoted by $\\mathsf{E}$. It is defined as average tangential trace of the electric field potential operator from both sides of the screen. The boundary integral equation is now\n",
    "\n",
    "$$\n",
    "\\mathsf{E}\\Lambda = \\nu\\times \\mathbf{E}^\\text{inc}.\n",
    "$$\n",
    "The $-$ sign is missing in comparison to the representation formula since we want to satisfy the boundary conditions for the negative incident wave so that the tangential trace of the total field is zero on the screen.\n",
    "\n",
    "More details about the mathematical background can be found in <a href='http://www.sam.math.ethz.ch/~hiptmair/Courses/CEM/BUH03.pdf' target='new'>Buffa & Hiptmair (2003)</a>."
   ]
  },
  {
   "cell_type": "markdown",
   "metadata": {},
   "source": [
    "### Implementation"
   ]
  },
  {
   "cell_type": "markdown",
   "metadata": {},
   "source": [
    "We start with the usual imports."
   ]
  },
  {
   "cell_type": "code",
   "execution_count": 1,
   "metadata": {
    "collapsed": false
   },
   "outputs": [],
   "source": [
    "import bempp.api\n",
    "import numpy as np"
   ]
  },
  {
   "cell_type": "markdown",
   "metadata": {},
   "source": [
    "To avoid preconditioning issues, we assemble the operators in dense mode so that we can solve via LU decomposition later on. We will also assemble the potential operator later in dense mode.\n",
    "\n",
    "For details of how to precondition this problem so that iterative solvers are feasible, see the <a href='https://bempp.com/2017/07/13/electric-field-integral-equation-efie/'>electric field integral equation (EFIE) tutorial</a>."
   ]
  },
  {
   "cell_type": "code",
   "execution_count": 2,
   "metadata": {
    "collapsed": true
   },
   "outputs": [],
   "source": [
    "bempp.api.global_parameters.assembly.boundary_operator_assembly_type = 'dense'\n",
    "bempp.api.global_parameters.assembly.potential_operator_assembly_type = 'dense'"
   ]
  },
  {
   "cell_type": "markdown",
   "metadata": {},
   "source": [
    "We next to define the wavenumber of the problem."
   ]
  },
  {
   "cell_type": "code",
   "execution_count": 3,
   "metadata": {
    "collapsed": false
   },
   "outputs": [],
   "source": [
    "wavelength = .5\n",
    "k = 2 * np.pi / wavelength"
   ]
  },
  {
   "cell_type": "markdown",
   "metadata": {},
   "source": [
    "We define a structured grid in the $x$-$y$ plane."
   ]
  },
  {
   "cell_type": "code",
   "execution_count": 17,
   "metadata": {
    "collapsed": false
   },
   "outputs": [],
   "source": [
    "grid = bempp.api.structured_grid((-2, -1), (2, 1), (60, 30))"
   ]
  },
  {
   "cell_type": "markdown",
   "metadata": {},
   "source": [
    "We define the spaces of order 0 Raviart&ndash;Thomas div-conforming functions and order 0 N&eacute;d&eacute;lec curl-conforming functions."
   ]
  },
  {
   "cell_type": "code",
   "execution_count": 6,
   "metadata": {
    "collapsed": false
   },
   "outputs": [],
   "source": [
    "div_space = bempp.api.function_space(grid, \"RT\", 0)\n",
    "curl_space = bempp.api.function_space(grid, \"NC\", 0)"
   ]
  },
  {
   "cell_type": "markdown",
   "metadata": {},
   "source": [
    "Next, we define the Maxwell electric field boundary operator and the identity operator. For Maxwell problems, the ``domain`` and ``range`` spaces should be div-conforming, while the ``dual_to_range`` space should be curl conforming."
   ]
  },
  {
   "cell_type": "code",
   "execution_count": 18,
   "metadata": {
    "collapsed": false
   },
   "outputs": [],
   "source": [
    "elec = bempp.api.operators.boundary.maxwell.electric_field(\n",
    "    div_space, div_space, curl_space, k)\n",
    "identity = bempp.api.operators.boundary.sparse.identity(\n",
    "    div_space, div_space, curl_space)"
   ]
  },
  {
   "cell_type": "markdown",
   "metadata": {},
   "source": [
    "We create a <a href='https://bempp.com/2017/07/11/grid-functions/'>grid function</a> to represent the incident wave."
   ]
  },
  {
   "cell_type": "code",
   "execution_count": 22,
   "metadata": {
    "collapsed": false
   },
   "outputs": [],
   "source": [
    "def incident_field(x):\n",
    "    return np.array([np.exp(1j * k * x[2]), 0. * x[2], 0. * x[2]])\n",
    "\n",
    "def tangential_trace(x, n, domain_index, result):\n",
    "    result[:] = np.cross(incident_field(x), n, axis=0)\n",
    "\n",
    "trace_fun = bempp.api.GridFunction(div_space, fun=tangential_trace,\n",
    "                                   dual_space=curl_space)"
   ]
  },
  {
   "cell_type": "markdown",
   "metadata": {},
   "source": [
    "We use a direct LU solver to solve the system. For larger problems, <a href='https://bempp.com/2017/07/13/electric-field-integral-equation-efie/'>the problem should be preconditioned and an iterative solver used</a>."
   ]
  },
  {
   "cell_type": "code",
   "execution_count": 21,
   "metadata": {
    "collapsed": false
   },
   "outputs": [],
   "source": [
    "from bempp.api.linalg import lu\n",
    "lambda_data = lu(elec, trace_fun)"
   ]
  },
  {
   "cell_type": "markdown",
   "metadata": {},
   "source": [
    "Now that the solution $\\mathbf{\\Lambda}$ is computed, we want to plot the total field. First, we define a grid of points in the $x$-$z$ plane."
   ]
  },
  {
   "cell_type": "code",
   "execution_count": 11,
   "metadata": {
    "collapsed": false
   },
   "outputs": [],
   "source": [
    "nx = 151\n",
    "nz = 151\n",
    "extent = 5\n",
    "x, y, z = np.mgrid[-extent:extent:nx * 1j,\n",
    "                   0:0:1j,\n",
    "                   -extent:extent:nz * 1j]\n",
    "points = np.vstack((x.ravel(), y.ravel(), z.ravel()))"
   ]
  },
  {
   "cell_type": "markdown",
   "metadata": {},
   "source": [
    "We now initialise the electric field potential operator."
   ]
  },
  {
   "cell_type": "code",
   "execution_count": 12,
   "metadata": {
    "collapsed": false
   },
   "outputs": [],
   "source": [
    "slp_pot = bempp.api.operators.potential.maxwell.electric_field(\n",
    "    div_space, points, k)"
   ]
  },
  {
   "cell_type": "markdown",
   "metadata": {},
   "source": [
    "The following commands now compute the total field by first computing the scattered field from the representation formula then adding the incident field."
   ]
  },
  {
   "cell_type": "code",
   "execution_count": 13,
   "metadata": {
    "collapsed": false
   },
   "outputs": [],
   "source": [
    "scattered_field_data = -slp_pot * lambda_data\n",
    "incident_field_data = incident_field(points)\n",
    "field_data = scattered_field_data + incident_field_data"
   ]
  },
  {
   "cell_type": "markdown",
   "metadata": {},
   "source": [
    "In electromagnetic scattering it is often useful to visualise the squared electric field density. This value is computed below."
   ]
  },
  {
   "cell_type": "code",
   "execution_count": 14,
   "metadata": {
    "collapsed": false
   },
   "outputs": [],
   "source": [
    "squared_field_density = np.real(np.sum(field_data * field_data.conj(), axis=0))"
   ]
  },
  {
   "cell_type": "markdown",
   "metadata": {},
   "source": [
    "Finally, we can plot everything using a simple Matplotlib plot."
   ]
  },
  {
   "cell_type": "code",
   "execution_count": 15,
   "metadata": {
    "collapsed": false
   },
   "outputs": [
    {
     "data": {
      "text/plain": [
       "<matplotlib.text.Text at 0x7fce56505e90>"
      ]
     },
     "execution_count": 15,
     "metadata": {},
     "output_type": "execute_result"
    },
    {
     "data": {
      "image/png": "[encoded data removed]",
      "text/plain": [
       "<matplotlib.figure.Figure at 0x7fce7abe7ad0>"
      ]
     },
     "metadata": {},
     "output_type": "display_data"
    }
   ],
   "source": [
    "%matplotlib inline\n",
    "import matplotlib\n",
    "from matplotlib import pylab as plt\n",
    "# Adjust the figure size in IPython\n",
    "matplotlib.rcParams['figure.figsize'] = (10.0, 8.0) \n",
    "\n",
    "plt.imshow(squared_field_density.reshape((nx, nz)).T,\n",
    "           cmap='coolwarm', origin='lower',\n",
    "           extent=[-extent, extent, -extent, extent])\n",
    "plt.colorbar()\n",
    "plt.title(\"Squared Electric Field Density\")"
   ]
  }
 ],
 "metadata": {
  "kernelspec": {
   "display_name": "Python 2",
   "language": "python",
   "name": "python2"
  },
  "language_info": {
   "codemirror_mode": {
    "name": "ipython",
    "version": 2
   },
   "file_extension": ".py",
   "mimetype": "text/x-python",
   "name": "python",
   "nbconvert_exporter": "python",
   "pygments_lexer": "ipython2",
   "version": "2.7.13"
  }
 },
 "nbformat": 4,
 "nbformat_minor": 0
}
